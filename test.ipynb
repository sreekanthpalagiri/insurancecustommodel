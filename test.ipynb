{
 "cells": [
  {
   "cell_type": "code",
   "execution_count": 1,
   "metadata": {},
   "outputs": [],
   "source": [
    "import requests\n",
    "import pandas as pd"
   ]
  },
  {
   "cell_type": "code",
   "execution_count": 2,
   "metadata": {},
   "outputs": [],
   "source": [
    "url='http://127.0.0.1:5000/'\n",
    "df = pd.read_csv('Dummy-Data.csv')\n",
    "content=df.to_json()"
   ]
  },
  {
   "cell_type": "code",
   "execution_count": 3,
   "metadata": {},
   "outputs": [],
   "source": [
    "headers = {'Content-type': 'application/json'}\n",
    "payload = {'json_payload': content}\n",
    "r = requests.get(url, data=content,headers=headers)"
   ]
  },
  {
   "cell_type": "code",
   "execution_count": 4,
   "metadata": {},
   "outputs": [
    {
     "data": {
      "text/plain": [
       "'[[56372,500,\"BMI is in right range\"],[34565,500,\"BMI is in right range\"],[57732,450.0,\"BMI is in right range\"],[87324,500,\"BMI is in right range\"],[12323,450.0,\"BMI is in right range\"],[75323,500,\"BMI is in right range\"],[23466,500,\"BMI is in right range\"],[24545,450.0,\"BMI is in right range\"],[63462,450.0,\"BMI is in right range\"],[87432,500,\"BMI is in right range\"],[53242,450.0,\"BMI is in right range\"],[45764,450.0,\"BMI is in right range\"],[97563,450.0,\"BMI is in right range\"],[45432,900.0,\"Age is between 40 to 59 and \\'BMI\\' is either less than 17.49 or greater than 38.5\"],[93576,500,\"BMI is in right range\"],[100332,500,\"BMI is in right range\"],[100331,500,\"BMI is in right range\"],[100333,450.0,\"BMI is in right range\"],[100334,450.0,\"BMI is in right range\"],[100335,500,\"BMI is in right range\"],[100336,500,\"BMI is in right range\"],[93580,500,\"BMI is in right range\"],[93581,450.0,\"BMI is in right range\"],[100340,500,\"BMI is in right range\"],[100341,450.0,\"BMI is in right range\"],[100342,500,\"BMI is in right range\"],[100344,500,\"BMI is in right range\"],[100345,500,\"BMI is in right range\"],[13545,450.0,\"BMI is in right range\"],[93587,500,\"BMI is in right range\"],[92891,450.0,\"BMI is in right range\"],[93590,450.0,\"BMI is in right range\"],[75422,500,\"BMI is in right range\"],[93587,500,\"BMI is in right range\"],[93055,450.0,\"BMI is in right range\"],[93057,500,\"BMI is in right range\"],[93068,500,\"BMI is in right range\"],[93102,500,\"BMI is in right range\"],[99422,450.0,\"BMI is in right range\"],[99437,500,\"BMI is in right range\"],[99452,500,\"BMI is in right range\"],[99498,500,\"BMI is in right range\"],[99514,450.0,\"BMI is in right range\"],[99530,900.0,\"Age is between 40 to 59 and \\'BMI\\' is either less than 17.49 or greater than 38.5\"],[99536,900.0,\"Age is between 40 to 59 and \\'BMI\\' is either less than 17.49 or greater than 38.5\"],[54325,500,\"BMI is in right range\"],[82348,500,\"BMI is in right range\"],[64574,500,\"BMI is in right range\"],[75324,450.0,\"BMI is in right range\"],[99917,500,\"BMI is in right range\"],[99918,500,\"BMI is in right range\"],[99946,500,\"BMI is in right range\"],[12343,450.0,\"BMI is in right range\"],[99947,500,\"BMI is in right range\"],[99917,500,\"BMI is in right range\"],[99918,500,\"BMI is in right range\"],[99946,500,\"BMI is in right range\"],[13352,675.0,\"Age is between 18 to 39 and \\'BMI\\' is either less than 17.49 or greater than 38.5\"],[99947,500,\"BMI is in right range\"],[99875,500,\"BMI is in right range\"],[13255,500,\"BMI is in right range\"],[99875,500,\"BMI is in right range\"],[99917,500,\"BMI is in right range\"],[99918,500,\"BMI is in right range\"],[99946,500,\"BMI is in right range\"],[99947,1000,\"Age is between 40 to 59 and \\'BMI\\' is either less than 17.49 or greater than 38.5\"],[13134,450.0,\"BMI is in right range\"],[54226,500,\"BMI is in right range\"],[67434,450.0,\"BMI is in right range\"],[99875,500,\"BMI is in right range\"],[99917,500,\"BMI is in right range\"],[99918,500,\"BMI is in right range\"],[99946,500,\"BMI is in right range\"],[99947,500,\"BMI is in right range\"],[92497,450.0,\"BMI is in right range\"],[12345,500,\"BMI is in right range\"],[13123,500,\"BMI is in right range\"],[12424,450.0,\"BMI is in right range\"],[99520,450.0,\"BMI is in right range\"],[99516,450.0,\"BMI is in right range\"],[93077,750,\"Age is between 18 to 39 and \\'BMI\\' is either less than 17.49 or greater than 38.5\"],[99513,500,\"BMI is in right range\"],[99497,500,\"BMI is in right range\"],[12123,450.0,\"BMI is in right range\"],[34523,750,\"Age is between 18 to 39 and \\'BMI\\' is either less than 17.49 or greater than 38.5\"],[99511,500,\"BMI is in right range\"],[12324,500,\"BMI is in right range\"],[99517,450.0,\"BMI is in right range\"],[99520,450.0,\"BMI is in right range\"],[99516,450.0,\"BMI is in right range\"],[93077,1000,\"Age is between 40 to 59 and \\'BMI\\' is either less than 17.49 or greater than 38.5\"],[99513,500,\"BMI is in right range\"],[99497,500,\"BMI is in right range\"],[99504,450.0,\"BMI is in right range\"],[24435,500,\"BMI is in right range\"],[99511,750,\"Age is between 18 to 39 and \\'BMI\\' is either less than 17.49 or greater than 38.5\"],[23781,500,\"BMI is in right range\"],[99517,450.0,\"BMI is in right range\"],[99520,450.0,\"BMI is in right range\"],[99516,450.0,\"BMI is in right range\"]]\\n'"
      ]
     },
     "execution_count": 4,
     "metadata": {},
     "output_type": "execute_result"
    }
   ],
   "source": [
    "r.text"
   ]
  }
 ],
 "metadata": {
  "kernelspec": {
   "display_name": "Python 3",
   "language": "python",
   "name": "python3"
  },
  "language_info": {
   "codemirror_mode": {
    "name": "ipython",
    "version": 3
   },
   "file_extension": ".py",
   "mimetype": "text/x-python",
   "name": "python",
   "nbconvert_exporter": "python",
   "pygments_lexer": "ipython3",
   "version": "3.8.5"
  },
  "toc": {
   "base_numbering": 1,
   "nav_menu": {},
   "number_sections": true,
   "sideBar": true,
   "skip_h1_title": false,
   "title_cell": "Table of Contents",
   "title_sidebar": "Contents",
   "toc_cell": false,
   "toc_position": {},
   "toc_section_display": true,
   "toc_window_display": false
  }
 },
 "nbformat": 4,
 "nbformat_minor": 4
}
