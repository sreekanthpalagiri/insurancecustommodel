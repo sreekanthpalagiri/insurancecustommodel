{
 "cells": [
  {
   "cell_type": "markdown",
   "metadata": {},
   "source": [
    "# Development of Model\n",
    "## Analysis"
   ]
  },
  {
   "cell_type": "code",
   "execution_count": 1,
   "metadata": {},
   "outputs": [],
   "source": [
    "import pandas as pd"
   ]
  },
  {
   "cell_type": "code",
   "execution_count": 2,
   "metadata": {},
   "outputs": [
    {
     "data": {
      "text/html": [
       "<div>\n",
       "<style scoped>\n",
       "    .dataframe tbody tr th:only-of-type {\n",
       "        vertical-align: middle;\n",
       "    }\n",
       "\n",
       "    .dataframe tbody tr th {\n",
       "        vertical-align: top;\n",
       "    }\n",
       "\n",
       "    .dataframe thead th {\n",
       "        text-align: right;\n",
       "    }\n",
       "</style>\n",
       "<table border=\"1\" class=\"dataframe\">\n",
       "  <thead>\n",
       "    <tr style=\"text-align: right;\">\n",
       "      <th></th>\n",
       "      <th>AppID</th>\n",
       "      <th>Ins_Age</th>\n",
       "      <th>Ins_Gender</th>\n",
       "      <th>Ht</th>\n",
       "      <th>Wt</th>\n",
       "      <th>IssueDate</th>\n",
       "    </tr>\n",
       "  </thead>\n",
       "  <tbody>\n",
       "    <tr>\n",
       "      <th>0</th>\n",
       "      <td>56372</td>\n",
       "      <td>31</td>\n",
       "      <td>Male</td>\n",
       "      <td>510</td>\n",
       "      <td>185</td>\n",
       "      <td>NaN</td>\n",
       "    </tr>\n",
       "    <tr>\n",
       "      <th>1</th>\n",
       "      <td>34565</td>\n",
       "      <td>35</td>\n",
       "      <td>Male</td>\n",
       "      <td>510</td>\n",
       "      <td>205</td>\n",
       "      <td>NaN</td>\n",
       "    </tr>\n",
       "    <tr>\n",
       "      <th>2</th>\n",
       "      <td>57732</td>\n",
       "      <td>45</td>\n",
       "      <td>Female</td>\n",
       "      <td>510</td>\n",
       "      <td>125</td>\n",
       "      <td>NaN</td>\n",
       "    </tr>\n",
       "    <tr>\n",
       "      <th>3</th>\n",
       "      <td>87324</td>\n",
       "      <td>38</td>\n",
       "      <td>Male</td>\n",
       "      <td>503</td>\n",
       "      <td>175</td>\n",
       "      <td>NaN</td>\n",
       "    </tr>\n",
       "    <tr>\n",
       "      <th>4</th>\n",
       "      <td>12323</td>\n",
       "      <td>39</td>\n",
       "      <td>Female</td>\n",
       "      <td>600</td>\n",
       "      <td>252</td>\n",
       "      <td>NaN</td>\n",
       "    </tr>\n",
       "    <tr>\n",
       "      <th>...</th>\n",
       "      <td>...</td>\n",
       "      <td>...</td>\n",
       "      <td>...</td>\n",
       "      <td>...</td>\n",
       "      <td>...</td>\n",
       "      <td>...</td>\n",
       "    </tr>\n",
       "    <tr>\n",
       "      <th>95</th>\n",
       "      <td>99511</td>\n",
       "      <td>35</td>\n",
       "      <td>Male</td>\n",
       "      <td>510</td>\n",
       "      <td>275</td>\n",
       "      <td>NaN</td>\n",
       "    </tr>\n",
       "    <tr>\n",
       "      <th>96</th>\n",
       "      <td>23781</td>\n",
       "      <td>27</td>\n",
       "      <td>Male</td>\n",
       "      <td>604</td>\n",
       "      <td>145</td>\n",
       "      <td>NaN</td>\n",
       "    </tr>\n",
       "    <tr>\n",
       "      <th>97</th>\n",
       "      <td>99517</td>\n",
       "      <td>35</td>\n",
       "      <td>Female</td>\n",
       "      <td>507</td>\n",
       "      <td>190</td>\n",
       "      <td>NaN</td>\n",
       "    </tr>\n",
       "    <tr>\n",
       "      <th>98</th>\n",
       "      <td>99520</td>\n",
       "      <td>38</td>\n",
       "      <td>Female</td>\n",
       "      <td>510</td>\n",
       "      <td>144</td>\n",
       "      <td>NaN</td>\n",
       "    </tr>\n",
       "    <tr>\n",
       "      <th>99</th>\n",
       "      <td>99516</td>\n",
       "      <td>52</td>\n",
       "      <td>Female</td>\n",
       "      <td>510</td>\n",
       "      <td>125</td>\n",
       "      <td>NaN</td>\n",
       "    </tr>\n",
       "  </tbody>\n",
       "</table>\n",
       "<p>100 rows × 6 columns</p>\n",
       "</div>"
      ],
      "text/plain": [
       "    AppID  Ins_Age Ins_Gender   Ht   Wt  IssueDate\n",
       "0   56372       31       Male  510  185        NaN\n",
       "1   34565       35       Male  510  205        NaN\n",
       "2   57732       45     Female  510  125        NaN\n",
       "3   87324       38       Male  503  175        NaN\n",
       "4   12323       39     Female  600  252        NaN\n",
       "..    ...      ...        ...  ...  ...        ...\n",
       "95  99511       35       Male  510  275        NaN\n",
       "96  23781       27       Male  604  145        NaN\n",
       "97  99517       35     Female  507  190        NaN\n",
       "98  99520       38     Female  510  144        NaN\n",
       "99  99516       52     Female  510  125        NaN\n",
       "\n",
       "[100 rows x 6 columns]"
      ]
     },
     "execution_count": 2,
     "metadata": {},
     "output_type": "execute_result"
    }
   ],
   "source": [
    "df = pd.read_csv('Dummy-Data.csv')\n",
    "df"
   ]
  },
  {
   "cell_type": "code",
   "execution_count": 3,
   "metadata": {},
   "outputs": [
    {
     "data": {
      "text/html": [
       "<div>\n",
       "<style scoped>\n",
       "    .dataframe tbody tr th:only-of-type {\n",
       "        vertical-align: middle;\n",
       "    }\n",
       "\n",
       "    .dataframe tbody tr th {\n",
       "        vertical-align: top;\n",
       "    }\n",
       "\n",
       "    .dataframe thead th {\n",
       "        text-align: right;\n",
       "    }\n",
       "</style>\n",
       "<table border=\"1\" class=\"dataframe\">\n",
       "  <thead>\n",
       "    <tr style=\"text-align: right;\">\n",
       "      <th></th>\n",
       "      <th>AppID</th>\n",
       "      <th>Ins_Age</th>\n",
       "      <th>Ht</th>\n",
       "      <th>Wt</th>\n",
       "      <th>IssueDate</th>\n",
       "    </tr>\n",
       "  </thead>\n",
       "  <tbody>\n",
       "    <tr>\n",
       "      <th>count</th>\n",
       "      <td>100.000000</td>\n",
       "      <td>100.000000</td>\n",
       "      <td>100.000000</td>\n",
       "      <td>100.00000</td>\n",
       "      <td>0.0</td>\n",
       "    </tr>\n",
       "    <tr>\n",
       "      <th>mean</th>\n",
       "      <td>79455.570000</td>\n",
       "      <td>37.320000</td>\n",
       "      <td>527.720000</td>\n",
       "      <td>165.15000</td>\n",
       "      <td>NaN</td>\n",
       "    </tr>\n",
       "    <tr>\n",
       "      <th>std</th>\n",
       "      <td>31123.726942</td>\n",
       "      <td>12.103827</td>\n",
       "      <td>39.482787</td>\n",
       "      <td>27.66224</td>\n",
       "      <td>NaN</td>\n",
       "    </tr>\n",
       "    <tr>\n",
       "      <th>min</th>\n",
       "      <td>12123.000000</td>\n",
       "      <td>19.000000</td>\n",
       "      <td>500.000000</td>\n",
       "      <td>110.00000</td>\n",
       "      <td>NaN</td>\n",
       "    </tr>\n",
       "    <tr>\n",
       "      <th>25%</th>\n",
       "      <td>64296.000000</td>\n",
       "      <td>27.750000</td>\n",
       "      <td>506.000000</td>\n",
       "      <td>145.00000</td>\n",
       "      <td>NaN</td>\n",
       "    </tr>\n",
       "    <tr>\n",
       "      <th>50%</th>\n",
       "      <td>99444.500000</td>\n",
       "      <td>36.000000</td>\n",
       "      <td>509.000000</td>\n",
       "      <td>170.00000</td>\n",
       "      <td>NaN</td>\n",
       "    </tr>\n",
       "    <tr>\n",
       "      <th>75%</th>\n",
       "      <td>99917.000000</td>\n",
       "      <td>47.000000</td>\n",
       "      <td>511.000000</td>\n",
       "      <td>180.00000</td>\n",
       "      <td>NaN</td>\n",
       "    </tr>\n",
       "    <tr>\n",
       "      <th>max</th>\n",
       "      <td>100345.000000</td>\n",
       "      <td>59.000000</td>\n",
       "      <td>605.000000</td>\n",
       "      <td>275.00000</td>\n",
       "      <td>NaN</td>\n",
       "    </tr>\n",
       "  </tbody>\n",
       "</table>\n",
       "</div>"
      ],
      "text/plain": [
       "               AppID     Ins_Age          Ht         Wt  IssueDate\n",
       "count     100.000000  100.000000  100.000000  100.00000        0.0\n",
       "mean    79455.570000   37.320000  527.720000  165.15000        NaN\n",
       "std     31123.726942   12.103827   39.482787   27.66224        NaN\n",
       "min     12123.000000   19.000000  500.000000  110.00000        NaN\n",
       "25%     64296.000000   27.750000  506.000000  145.00000        NaN\n",
       "50%     99444.500000   36.000000  509.000000  170.00000        NaN\n",
       "75%     99917.000000   47.000000  511.000000  180.00000        NaN\n",
       "max    100345.000000   59.000000  605.000000  275.00000        NaN"
      ]
     },
     "execution_count": 3,
     "metadata": {},
     "output_type": "execute_result"
    }
   ],
   "source": [
    "df.describe()"
   ]
  },
  {
   "cell_type": "markdown",
   "metadata": {},
   "source": [
    "**Based on data above and business rules from documentation**: \n",
    "\n",
    "- IssueData is alway null and also not useful at all."
   ]
  },
  {
   "cell_type": "markdown",
   "metadata": {},
   "source": [
    "## Create a Training Data Set"
   ]
  },
  {
   "cell_type": "code",
   "execution_count": 4,
   "metadata": {},
   "outputs": [],
   "source": [
    " def bmi(wt,ht):\n",
    "    ht_m=(((ht//100)*12+ht%100)*0.0254)\n",
    "    wt_kg=wt/2.20462\n",
    "    bmi=wt_kg/(ht_m**2)\n",
    "    return bmi"
   ]
  },
  {
   "cell_type": "code",
   "execution_count": 5,
   "metadata": {},
   "outputs": [],
   "source": [
    "def age_group(age):\n",
    "    if age < 18:\n",
    "        return 0\n",
    "    elif age < 40:\n",
    "        return 1\n",
    "    elif age <= 60:\n",
    "        return 2\n",
    "    else:\n",
    "        return 3"
   ]
  },
  {
   "cell_type": "code",
   "execution_count": 6,
   "metadata": {},
   "outputs": [],
   "source": [
    "df['bmi'] = df.apply(lambda x: bmi(x.Wt, x.Ht), axis=1)\n",
    "df['age_group'] = df.apply(lambda x: age_group(x.Ins_Age), axis=1)\n",
    "\n",
    "df.drop(columns=['IssueDate','Ins_Age','Ht','Wt'],inplace=True)"
   ]
  },
  {
   "cell_type": "code",
   "execution_count": 7,
   "metadata": {},
   "outputs": [
    {
     "name": "stderr",
     "output_type": "stream",
     "text": [
      "<frozen importlib._bootstrap>:219: RuntimeWarning: scipy._lib.messagestream.MessageStream size changed, may indicate binary incompatibility. Expected 56 from C header, got 64 from PyObject\n"
     ]
    },
    {
     "data": {
      "text/plain": [
       "OrdinalEncoder()"
      ]
     },
     "execution_count": 7,
     "metadata": {},
     "output_type": "execute_result"
    }
   ],
   "source": [
    "from sklearn.preprocessing import OrdinalEncoder\n",
    "\n",
    "enc = OrdinalEncoder()\n",
    "enc.fit(df[['Ins_Gender']])"
   ]
  },
  {
   "cell_type": "code",
   "execution_count": 8,
   "metadata": {},
   "outputs": [
    {
     "data": {
      "text/plain": [
       "[array(['Female', 'Male'], dtype=object)]"
      ]
     },
     "execution_count": 8,
     "metadata": {},
     "output_type": "execute_result"
    }
   ],
   "source": [
    "enc.categories_"
   ]
  },
  {
   "cell_type": "code",
   "execution_count": 9,
   "metadata": {},
   "outputs": [],
   "source": [
    "df[['Ins_Gender']]=enc.transform(df[['Ins_Gender']])"
   ]
  },
  {
   "cell_type": "code",
   "execution_count": 10,
   "metadata": {},
   "outputs": [],
   "source": [
    "def quote_value(gender,bmi,age_group):\n",
    "        if (bmi > 17.49 and bmi < 38.5):\n",
    "            base_value = 500\n",
    "        else:\n",
    "            if age_group == 0:\n",
    "                base_value = 500\n",
    "            elif age_group == 1:\n",
    "                base_value = 750\n",
    "            elif age_group == 2:\n",
    "                base_value = 1000\n",
    "            else:\n",
    "                base_value = 2000\n",
    "        if gender == 0:\n",
    "            return base_value * 0.9\n",
    "        else:\n",
    "            return base_value"
   ]
  },
  {
   "cell_type": "code",
   "execution_count": 11,
   "metadata": {},
   "outputs": [],
   "source": [
    "df['quote'] = df.apply(lambda x: quote_value(x.Ins_Gender,x.bmi,x.age_group), axis=1)"
   ]
  },
  {
   "cell_type": "code",
   "execution_count": 12,
   "metadata": {},
   "outputs": [
    {
     "data": {
      "text/html": [
       "<div>\n",
       "<style scoped>\n",
       "    .dataframe tbody tr th:only-of-type {\n",
       "        vertical-align: middle;\n",
       "    }\n",
       "\n",
       "    .dataframe tbody tr th {\n",
       "        vertical-align: top;\n",
       "    }\n",
       "\n",
       "    .dataframe thead th {\n",
       "        text-align: right;\n",
       "    }\n",
       "</style>\n",
       "<table border=\"1\" class=\"dataframe\">\n",
       "  <thead>\n",
       "    <tr style=\"text-align: right;\">\n",
       "      <th></th>\n",
       "      <th>AppID</th>\n",
       "      <th>Ins_Gender</th>\n",
       "      <th>bmi</th>\n",
       "      <th>age_group</th>\n",
       "      <th>quote</th>\n",
       "    </tr>\n",
       "  </thead>\n",
       "  <tbody>\n",
       "    <tr>\n",
       "      <th>0</th>\n",
       "      <td>56372</td>\n",
       "      <td>1.0</td>\n",
       "      <td>26.544495</td>\n",
       "      <td>1</td>\n",
       "      <td>500.0</td>\n",
       "    </tr>\n",
       "    <tr>\n",
       "      <th>1</th>\n",
       "      <td>34565</td>\n",
       "      <td>1.0</td>\n",
       "      <td>29.414170</td>\n",
       "      <td>1</td>\n",
       "      <td>500.0</td>\n",
       "    </tr>\n",
       "    <tr>\n",
       "      <th>2</th>\n",
       "      <td>57732</td>\n",
       "      <td>0.0</td>\n",
       "      <td>17.935470</td>\n",
       "      <td>2</td>\n",
       "      <td>450.0</td>\n",
       "    </tr>\n",
       "    <tr>\n",
       "      <th>3</th>\n",
       "      <td>87324</td>\n",
       "      <td>1.0</td>\n",
       "      <td>30.999577</td>\n",
       "      <td>1</td>\n",
       "      <td>500.0</td>\n",
       "    </tr>\n",
       "    <tr>\n",
       "      <th>4</th>\n",
       "      <td>12323</td>\n",
       "      <td>0.0</td>\n",
       "      <td>34.177034</td>\n",
       "      <td>1</td>\n",
       "      <td>450.0</td>\n",
       "    </tr>\n",
       "  </tbody>\n",
       "</table>\n",
       "</div>"
      ],
      "text/plain": [
       "   AppID  Ins_Gender        bmi  age_group  quote\n",
       "0  56372         1.0  26.544495          1  500.0\n",
       "1  34565         1.0  29.414170          1  500.0\n",
       "2  57732         0.0  17.935470          2  450.0\n",
       "3  87324         1.0  30.999577          1  500.0\n",
       "4  12323         0.0  34.177034          1  450.0"
      ]
     },
     "execution_count": 12,
     "metadata": {},
     "output_type": "execute_result"
    }
   ],
   "source": [
    "df.head()"
   ]
  },
  {
   "cell_type": "code",
   "execution_count": 13,
   "metadata": {},
   "outputs": [],
   "source": [
    "X=df[['Ins_Gender','bmi','age_group']].to_numpy()"
   ]
  },
  {
   "cell_type": "code",
   "execution_count": 14,
   "metadata": {},
   "outputs": [],
   "source": [
    "Y=df[['quote']].to_numpy()"
   ]
  },
  {
   "cell_type": "markdown",
   "metadata": {},
   "source": [
    "## Split to train and test set"
   ]
  },
  {
   "cell_type": "code",
   "execution_count": 15,
   "metadata": {},
   "outputs": [],
   "source": [
    "from sklearn.model_selection import train_test_split\n",
    "\n",
    "X_train, X_test, y_train, y_test = train_test_split(df[['Ins_Gender','bmi','age_group']].to_numpy(),\n",
    "                                     df[['quote']].to_numpy(),\n",
    "                                     shuffle=True,\n",
    "                                     test_size=0.1,\n",
    "                                     random_state=0)"
   ]
  },
  {
   "cell_type": "code",
   "execution_count": 16,
   "metadata": {},
   "outputs": [
    {
     "name": "stdout",
     "output_type": "stream",
     "text": [
      "90 10\n"
     ]
    }
   ],
   "source": [
    "print(len(X_train), len(X_test))"
   ]
  },
  {
   "cell_type": "markdown",
   "metadata": {},
   "source": [
    "## Train a Model"
   ]
  },
  {
   "cell_type": "code",
   "execution_count": 18,
   "metadata": {},
   "outputs": [],
   "source": [
    "from sklearn.ensemble import RandomForestClassifier\n",
    "\n",
    "clf=RandomForestClassifier(n_estimators=10)\n",
    "clf=clf.fit(X_train,y_train.ravel())"
   ]
  },
  {
   "cell_type": "code",
   "execution_count": 19,
   "metadata": {},
   "outputs": [
    {
     "name": "stdout",
     "output_type": "stream",
     "text": [
      "Train Score 1.0\n",
      "Test Score 0.8\n"
     ]
    }
   ],
   "source": [
    "print('Train Score',clf.score(X_train,y_train))\n",
    "print('Test Score',clf.score(X_test,y_test))"
   ]
  },
  {
   "cell_type": "code",
   "execution_count": 20,
   "metadata": {},
   "outputs": [
    {
     "data": {
      "text/plain": [
       "array([450., 500., 450., 500., 500., 450., 500., 500., 500., 500.])"
      ]
     },
     "execution_count": 20,
     "metadata": {},
     "output_type": "execute_result"
    }
   ],
   "source": [
    "clf.predict(X_test)"
   ]
  },
  {
   "cell_type": "code",
   "execution_count": 21,
   "metadata": {},
   "outputs": [
    {
     "data": {
      "text/plain": [
       "array([[500.],\n",
       "       [500.],\n",
       "       [450.],\n",
       "       [500.],\n",
       "       [500.],\n",
       "       [450.],\n",
       "       [500.],\n",
       "       [500.],\n",
       "       [500.],\n",
       "       [750.]])"
      ]
     },
     "execution_count": 21,
     "metadata": {},
     "output_type": "execute_result"
    }
   ],
   "source": [
    "y_test"
   ]
  },
  {
   "cell_type": "markdown",
   "metadata": {},
   "source": [
    "## Visualize a random tree"
   ]
  },
  {
   "cell_type": "code",
   "execution_count": 22,
   "metadata": {},
   "outputs": [],
   "source": [
    "from sklearn.tree import export_graphviz, plot_tree\n",
    "\n",
    "export_graphviz(clf.estimators_[0],out_file='tree.dot')\n"
   ]
  },
  {
   "cell_type": "code",
   "execution_count": 23,
   "metadata": {},
   "outputs": [
    {
     "data": {
      "text/plain": [
       "[Text(342.40909090909093, 713.475, 'X[0] <= 0.5\\ngini = 0.527\\nsamples = 59\\nvalue = [28, 55, 0, 3, 3, 1]'),\n",
       " Text(152.1818181818182, 509.625, 'X[1] <= 17.738\\ngini = 0.175\\nsamples = 22\\nvalue = [28, 0, 0, 0, 3, 0]'),\n",
       " Text(76.0909090909091, 305.775, 'gini = 0.0\\nsamples = 2\\nvalue = [0, 0, 0, 0, 3, 0]'),\n",
       " Text(228.27272727272728, 305.775, 'gini = 0.0\\nsamples = 20\\nvalue = [28, 0, 0, 0, 0, 0]'),\n",
       " Text(532.6363636363636, 509.625, 'X[2] <= 1.5\\ngini = 0.128\\nsamples = 37\\nvalue = [0, 55, 0, 3, 0, 1]'),\n",
       " Text(380.4545454545455, 305.775, 'X[1] <= 17.019\\ngini = 0.165\\nsamples = 23\\nvalue = [0, 30, 0, 3, 0, 0]'),\n",
       " Text(304.3636363636364, 101.92499999999995, 'gini = 0.0\\nsamples = 2\\nvalue = [0, 0, 0, 3, 0, 0]'),\n",
       " Text(456.54545454545456, 101.92499999999995, 'gini = 0.0\\nsamples = 21\\nvalue = [0, 30, 0, 0, 0, 0]'),\n",
       " Text(684.8181818181819, 305.775, 'X[1] <= 19.913\\ngini = 0.074\\nsamples = 14\\nvalue = [0, 25, 0, 0, 0, 1]'),\n",
       " Text(608.7272727272727, 101.92499999999995, 'gini = 0.0\\nsamples = 1\\nvalue = [0, 0, 0, 0, 0, 1]'),\n",
       " Text(760.909090909091, 101.92499999999995, 'gini = 0.0\\nsamples = 13\\nvalue = [0, 25, 0, 0, 0, 0]')]"
      ]
     },
     "execution_count": 23,
     "metadata": {},
     "output_type": "execute_result"
    },
    {
     "data": {
      "image/png": "[encoded data removed]",
      "text/plain": [
       "<Figure size 1080x1080 with 1 Axes>"
      ]
     },
     "metadata": {
      "needs_background": "light"
     },
     "output_type": "display_data"
    }
   ],
   "source": [
    "from matplotlib import pyplot as plt\n",
    "\n",
    "plt.figure(figsize=(15,15))\n",
    "\n",
    "plot_tree(clf.estimators_[0], fontsize=10)"
   ]
  },
  {
   "cell_type": "markdown",
   "metadata": {},
   "source": [
    "## Save the model"
   ]
  },
  {
   "cell_type": "code",
   "execution_count": 33,
   "metadata": {},
   "outputs": [
    {
     "data": {
      "text/plain": [
       "'/Users/sreekanthpalagiri/Learning/Pramerica'"
      ]
     },
     "execution_count": 33,
     "metadata": {},
     "output_type": "execute_result"
    }
   ],
   "source": [
    "import os\n",
    "os.getcwd()"
   ]
  },
  {
   "cell_type": "code",
   "execution_count": 34,
   "metadata": {},
   "outputs": [
    {
     "data": {
      "text/plain": [
       "['./src/model/filename.joblib']"
      ]
     },
     "execution_count": 34,
     "metadata": {},
     "output_type": "execute_result"
    }
   ],
   "source": [
    "from joblib import dump\n",
    "\n",
    "dump(clf, './src/model/filename.joblib') "
   ]
  },
  {
   "cell_type": "markdown",
   "metadata": {},
   "source": [
    "# Creating An application for inference\n",
    "\n",
    "## Create a Transformation Class and testing it"
   ]
  },
  {
   "cell_type": "code",
   "execution_count": 24,
   "metadata": {},
   "outputs": [],
   "source": [
    "from sklearn.base import TransformerMixin\n",
    "from sklearn.preprocessing import OrdinalEncoder\n"
   ]
  },
  {
   "cell_type": "code",
   "execution_count": 68,
   "metadata": {},
   "outputs": [],
   "source": [
    "class TransformData(TransformerMixin):\n",
    "        \n",
    "    def bmi(self,wt,ht):\n",
    "        ht_m=(((ht//100)*12+ht%100)*0.0254)\n",
    "        wt_kg=wt/2.20462\n",
    "        bmi=wt_kg/(ht_m**2)\n",
    "        return bmi\n",
    "    \n",
    "    def age_group(self,age):\n",
    "        if age < 18:\n",
    "            return 0\n",
    "        elif age < 40:\n",
    "            return 1\n",
    "        elif age <= 60:\n",
    "            return 2\n",
    "        else:\n",
    "            return 3\n",
    "        \n",
    "    def quote_value(gender,bmi,age_group):\n",
    "        if (bmi > 17.49 and bmi < 38.5):\n",
    "            base_value = 500\n",
    "        else:\n",
    "            if age_group == 0:\n",
    "                base_value = 500\n",
    "            elif age_group == 1:\n",
    "                base_value = 750\n",
    "            elif age_group == 2:\n",
    "                base_value = 1000\n",
    "            else:\n",
    "                base_value = 2000\n",
    "        if gender == 0:\n",
    "            return base_value * 0.9\n",
    "        else:\n",
    "            return base_value\n",
    "        \n",
    "    def encode(self):\n",
    "        enc = OrdinalEncoder()\n",
    "        enc.fit(df[['Ins_Gender']])\n",
    "        self.X[['Ins_Gender']]=enc.transform(self.X[['Ins_Gender']])\n",
    "        \n",
    "            \n",
    "    def transform(self, X):\n",
    "        self.X=X\n",
    "        self.X['bmi'] = self.X.apply(lambda x: self.bmi(x.Wt, x.Ht), axis=1)\n",
    "        self.X['age_group'] = self.X.apply(lambda x: self.age_group(x.Ins_Age), axis=1)\n",
    "        \n",
    "        self.X.drop(columns=['Ht','Wt','IssueDate','Ins_Age'],inplace=True)\n",
    "        \n",
    "        self.encode()\n",
    "        \n",
    "        return self.X\n",
    "    "
   ]
  },
  {
   "cell_type": "code",
   "execution_count": 69,
   "metadata": {},
   "outputs": [
    {
     "data": {
      "text/html": [
       "<div>\n",
       "<style scoped>\n",
       "    .dataframe tbody tr th:only-of-type {\n",
       "        vertical-align: middle;\n",
       "    }\n",
       "\n",
       "    .dataframe tbody tr th {\n",
       "        vertical-align: top;\n",
       "    }\n",
       "\n",
       "    .dataframe thead th {\n",
       "        text-align: right;\n",
       "    }\n",
       "</style>\n",
       "<table border=\"1\" class=\"dataframe\">\n",
       "  <thead>\n",
       "    <tr style=\"text-align: right;\">\n",
       "      <th></th>\n",
       "      <th>AppID</th>\n",
       "      <th>Ins_Gender</th>\n",
       "      <th>bmi</th>\n",
       "      <th>age_group</th>\n",
       "    </tr>\n",
       "  </thead>\n",
       "  <tbody>\n",
       "    <tr>\n",
       "      <th>0</th>\n",
       "      <td>56372</td>\n",
       "      <td>1.0</td>\n",
       "      <td>26.544495</td>\n",
       "      <td>1</td>\n",
       "    </tr>\n",
       "    <tr>\n",
       "      <th>1</th>\n",
       "      <td>34565</td>\n",
       "      <td>1.0</td>\n",
       "      <td>29.414170</td>\n",
       "      <td>1</td>\n",
       "    </tr>\n",
       "    <tr>\n",
       "      <th>2</th>\n",
       "      <td>57732</td>\n",
       "      <td>0.0</td>\n",
       "      <td>17.935470</td>\n",
       "      <td>2</td>\n",
       "    </tr>\n",
       "    <tr>\n",
       "      <th>3</th>\n",
       "      <td>87324</td>\n",
       "      <td>1.0</td>\n",
       "      <td>30.999577</td>\n",
       "      <td>1</td>\n",
       "    </tr>\n",
       "    <tr>\n",
       "      <th>4</th>\n",
       "      <td>12323</td>\n",
       "      <td>0.0</td>\n",
       "      <td>34.177034</td>\n",
       "      <td>1</td>\n",
       "    </tr>\n",
       "    <tr>\n",
       "      <th>...</th>\n",
       "      <td>...</td>\n",
       "      <td>...</td>\n",
       "      <td>...</td>\n",
       "      <td>...</td>\n",
       "    </tr>\n",
       "    <tr>\n",
       "      <th>95</th>\n",
       "      <td>99511</td>\n",
       "      <td>1.0</td>\n",
       "      <td>39.458034</td>\n",
       "      <td>1</td>\n",
       "    </tr>\n",
       "    <tr>\n",
       "      <th>96</th>\n",
       "      <td>23781</td>\n",
       "      <td>1.0</td>\n",
       "      <td>17.649794</td>\n",
       "      <td>1</td>\n",
       "    </tr>\n",
       "    <tr>\n",
       "      <th>97</th>\n",
       "      <td>99517</td>\n",
       "      <td>0.0</td>\n",
       "      <td>29.757937</td>\n",
       "      <td>1</td>\n",
       "    </tr>\n",
       "    <tr>\n",
       "      <th>98</th>\n",
       "      <td>99520</td>\n",
       "      <td>0.0</td>\n",
       "      <td>20.661661</td>\n",
       "      <td>1</td>\n",
       "    </tr>\n",
       "    <tr>\n",
       "      <th>99</th>\n",
       "      <td>99516</td>\n",
       "      <td>0.0</td>\n",
       "      <td>17.935470</td>\n",
       "      <td>2</td>\n",
       "    </tr>\n",
       "  </tbody>\n",
       "</table>\n",
       "<p>100 rows × 4 columns</p>\n",
       "</div>"
      ],
      "text/plain": [
       "    AppID  Ins_Gender        bmi  age_group\n",
       "0   56372         1.0  26.544495          1\n",
       "1   34565         1.0  29.414170          1\n",
       "2   57732         0.0  17.935470          2\n",
       "3   87324         1.0  30.999577          1\n",
       "4   12323         0.0  34.177034          1\n",
       "..    ...         ...        ...        ...\n",
       "95  99511         1.0  39.458034          1\n",
       "96  23781         1.0  17.649794          1\n",
       "97  99517         0.0  29.757937          1\n",
       "98  99520         0.0  20.661661          1\n",
       "99  99516         0.0  17.935470          2\n",
       "\n",
       "[100 rows x 4 columns]"
      ]
     },
     "execution_count": 69,
     "metadata": {},
     "output_type": "execute_result"
    }
   ],
   "source": [
    "df = pd.read_csv('Dummy-Data.csv')\n",
    "\n",
    "td=TransformData()\n",
    "td.transform(df)"
   ]
  },
  {
   "cell_type": "markdown",
   "metadata": {},
   "source": [
    "## Create a Model Class from trained Model"
   ]
  },
  {
   "cell_type": "code",
   "execution_count": 79,
   "metadata": {},
   "outputs": [],
   "source": [
    "from sklearn.base import ClassifierMixin\n",
    "from joblib import load\n",
    "\n",
    "class InsuranceModel(ClassifierMixin):\n",
    "    def __init__(self):\n",
    "        self.clf = load('./src/model/filename.joblib') \n",
    "        \n",
    "    def fit (self,X):\n",
    "        pass\n",
    "                \n",
    "    def predict(self,X):\n",
    "        self.X =X\n",
    "        self.X['quote'] = clf.predict(self.X[['Ins_Gender','bmi','age_group']].to_numpy())\n",
    "        return df"
   ]
  },
  {
   "cell_type": "markdown",
   "metadata": {},
   "source": [
    "## Create and testing Pipeline"
   ]
  },
  {
   "cell_type": "code",
   "execution_count": 59,
   "metadata": {},
   "outputs": [],
   "source": [
    "from sklearn.pipeline import Pipeline\n",
    "\n",
    "pipe = Pipeline([('transformer', TransformData()), ('InsuranceModel', InsuranceModel())])"
   ]
  },
  {
   "cell_type": "code",
   "execution_count": 60,
   "metadata": {},
   "outputs": [
    {
     "data": {
      "text/html": [
       "<div>\n",
       "<style scoped>\n",
       "    .dataframe tbody tr th:only-of-type {\n",
       "        vertical-align: middle;\n",
       "    }\n",
       "\n",
       "    .dataframe tbody tr th {\n",
       "        vertical-align: top;\n",
       "    }\n",
       "\n",
       "    .dataframe thead th {\n",
       "        text-align: right;\n",
       "    }\n",
       "</style>\n",
       "<table border=\"1\" class=\"dataframe\">\n",
       "  <thead>\n",
       "    <tr style=\"text-align: right;\">\n",
       "      <th></th>\n",
       "      <th>AppID</th>\n",
       "      <th>Ins_Gender</th>\n",
       "      <th>bmi</th>\n",
       "      <th>age_group</th>\n",
       "      <th>quote</th>\n",
       "    </tr>\n",
       "  </thead>\n",
       "  <tbody>\n",
       "    <tr>\n",
       "      <th>0</th>\n",
       "      <td>56372</td>\n",
       "      <td>1.0</td>\n",
       "      <td>26.544495</td>\n",
       "      <td>1</td>\n",
       "      <td>500.0</td>\n",
       "    </tr>\n",
       "    <tr>\n",
       "      <th>1</th>\n",
       "      <td>34565</td>\n",
       "      <td>1.0</td>\n",
       "      <td>29.414170</td>\n",
       "      <td>1</td>\n",
       "      <td>500.0</td>\n",
       "    </tr>\n",
       "    <tr>\n",
       "      <th>2</th>\n",
       "      <td>57732</td>\n",
       "      <td>0.0</td>\n",
       "      <td>17.935470</td>\n",
       "      <td>2</td>\n",
       "      <td>450.0</td>\n",
       "    </tr>\n",
       "    <tr>\n",
       "      <th>3</th>\n",
       "      <td>87324</td>\n",
       "      <td>1.0</td>\n",
       "      <td>30.999577</td>\n",
       "      <td>1</td>\n",
       "      <td>500.0</td>\n",
       "    </tr>\n",
       "    <tr>\n",
       "      <th>4</th>\n",
       "      <td>12323</td>\n",
       "      <td>0.0</td>\n",
       "      <td>34.177034</td>\n",
       "      <td>1</td>\n",
       "      <td>450.0</td>\n",
       "    </tr>\n",
       "    <tr>\n",
       "      <th>...</th>\n",
       "      <td>...</td>\n",
       "      <td>...</td>\n",
       "      <td>...</td>\n",
       "      <td>...</td>\n",
       "      <td>...</td>\n",
       "    </tr>\n",
       "    <tr>\n",
       "      <th>95</th>\n",
       "      <td>99511</td>\n",
       "      <td>1.0</td>\n",
       "      <td>39.458034</td>\n",
       "      <td>1</td>\n",
       "      <td>500.0</td>\n",
       "    </tr>\n",
       "    <tr>\n",
       "      <th>96</th>\n",
       "      <td>23781</td>\n",
       "      <td>1.0</td>\n",
       "      <td>17.649794</td>\n",
       "      <td>1</td>\n",
       "      <td>500.0</td>\n",
       "    </tr>\n",
       "    <tr>\n",
       "      <th>97</th>\n",
       "      <td>99517</td>\n",
       "      <td>0.0</td>\n",
       "      <td>29.757937</td>\n",
       "      <td>1</td>\n",
       "      <td>450.0</td>\n",
       "    </tr>\n",
       "    <tr>\n",
       "      <th>98</th>\n",
       "      <td>99520</td>\n",
       "      <td>0.0</td>\n",
       "      <td>20.661661</td>\n",
       "      <td>1</td>\n",
       "      <td>450.0</td>\n",
       "    </tr>\n",
       "    <tr>\n",
       "      <th>99</th>\n",
       "      <td>99516</td>\n",
       "      <td>0.0</td>\n",
       "      <td>17.935470</td>\n",
       "      <td>2</td>\n",
       "      <td>450.0</td>\n",
       "    </tr>\n",
       "  </tbody>\n",
       "</table>\n",
       "<p>100 rows × 5 columns</p>\n",
       "</div>"
      ],
      "text/plain": [
       "    AppID  Ins_Gender        bmi  age_group  quote\n",
       "0   56372         1.0  26.544495          1  500.0\n",
       "1   34565         1.0  29.414170          1  500.0\n",
       "2   57732         0.0  17.935470          2  450.0\n",
       "3   87324         1.0  30.999577          1  500.0\n",
       "4   12323         0.0  34.177034          1  450.0\n",
       "..    ...         ...        ...        ...    ...\n",
       "95  99511         1.0  39.458034          1  500.0\n",
       "96  23781         1.0  17.649794          1  500.0\n",
       "97  99517         0.0  29.757937          1  450.0\n",
       "98  99520         0.0  20.661661          1  450.0\n",
       "99  99516         0.0  17.935470          2  450.0\n",
       "\n",
       "[100 rows x 5 columns]"
      ]
     },
     "execution_count": 60,
     "metadata": {},
     "output_type": "execute_result"
    }
   ],
   "source": [
    "df = pd.read_csv('Dummy-Data.csv')\n",
    "pipe.predict(df)"
   ]
  },
  {
   "cell_type": "markdown",
   "metadata": {},
   "source": [
    "## Putting it all together in a flask ap\n",
    "\n",
    "**Model Module(model.py file to be imported in app.py)**"
   ]
  },
  {
   "cell_type": "code",
   "execution_count": 85,
   "metadata": {},
   "outputs": [],
   "source": [
    "from sklearn.base import TransformerMixin\n",
    "from sklearn.preprocessing import OrdinalEncoder\n",
    "from sklearn.base import ClassifierMixin\n",
    "from joblib import load\n",
    "from sklearn.pipeline import Pipeline\n",
    "\n",
    "\n",
    "class TransformData(TransformerMixin):\n",
    "        \n",
    "    def bmi(self,wt,ht):\n",
    "        ht_m=(((ht//100)*12+ht%100)*0.0254)\n",
    "        wt_kg=wt/2.20462\n",
    "        bmi=wt_kg/(ht_m**2)\n",
    "        return bmi\n",
    "    \n",
    "    def age_group(self,age):\n",
    "        if age < 18:\n",
    "            return 0\n",
    "        elif age < 40:\n",
    "            return 1\n",
    "        elif age <= 60:\n",
    "            return 2\n",
    "        else:\n",
    "            return 3\n",
    "        \n",
    "    def quote_value(gender,bmi,age_group):\n",
    "        if (bmi > 17.49 and bmi < 38.5):\n",
    "            base_value = 500\n",
    "        else:\n",
    "            if age_group == 0:\n",
    "                base_value = 500\n",
    "            elif age_group == 1:\n",
    "                base_value = 750\n",
    "            elif age_group == 2:\n",
    "                base_value = 1000\n",
    "            else:\n",
    "                base_value = 2000\n",
    "        if gender == 0:\n",
    "            return base_value * 0.9\n",
    "        else:\n",
    "            return base_value\n",
    "        \n",
    "    def encode(self):\n",
    "        enc = OrdinalEncoder()\n",
    "        enc.fit( self.X[['Ins_Gender']])\n",
    "        self.X[['Ins_Gender']]=enc.transform(self.X[['Ins_Gender']])\n",
    "        \n",
    "            \n",
    "    def transform(self, X):\n",
    "        self.X=X\n",
    "        self.X['bmi'] = self.X.apply(lambda x: self.bmi(x.Wt, x.Ht), axis=1)\n",
    "        self.X['age_group'] = self.X.apply(lambda x: self.age_group(x.Ins_Age), axis=1)\n",
    "        \n",
    "        self.X.drop(columns=['Ht','Wt','IssueDate','Ins_Age'],inplace=True)\n",
    "        \n",
    "        self.encode()\n",
    "        \n",
    "        return self.X\n",
    "    \n",
    "\n",
    "class InsuranceModel(ClassifierMixin):\n",
    "    def __init__(self):\n",
    "        self.clf = load('./src/model/filename.joblib') \n",
    "        \n",
    "    def fit (self,X):\n",
    "        pass\n",
    "                \n",
    "    def predict(self,X):\n",
    "        self.X= X\n",
    "        self.X['quote'] = self.clf.predict(X[['Ins_Gender','bmi','age_group']].to_numpy())\n",
    "        return self.X[['AppID','quote']]\n",
    "    \n",
    "pipe = Pipeline([('transformer', TransformData()), ('InsuranceModel', InsuranceModel())])"
   ]
  },
  {
   "cell_type": "markdown",
   "metadata": {},
   "source": [
    "**Flask- app.py**"
   ]
  },
  {
   "cell_type": "code",
   "execution_count": 89,
   "metadata": {},
   "outputs": [
    {
     "name": "stdout",
     "output_type": "stream",
     "text": [
      " * Serving Flask app \"__main__\" (lazy loading)\n",
      " * Environment: production\n",
      "\u001b[31m   WARNING: This is a development server. Do not use it in a production deployment.\u001b[0m\n",
      "\u001b[2m   Use a production WSGI server instead.\u001b[0m\n",
      " * Debug mode: off\n"
     ]
    },
    {
     "name": "stderr",
     "output_type": "stream",
     "text": [
      " * Running on http://127.0.0.1:5000/ (Press CTRL+C to quit)\n",
      "127.0.0.1 - - [05/Jul/2022 22:43:11] \"GET / HTTP/1.1\" 200 -\n"
     ]
    }
   ],
   "source": [
    "from flask import Flask, request, jsonify\n",
    "import pandas as pd\n",
    "##import pipeline here\n",
    "\n",
    "app = Flask(__name__)\n",
    "\n",
    "@app.route('/',methods=['GET'])\n",
    "def index():\n",
    "    content = request.json\n",
    "    df = pd.DataFrame.from_dict(content)\n",
    "    pred=pipe.predict(df)\n",
    "    return jsonify(pred.values.tolist())\n",
    "\n",
    "\n",
    "if __name__=='__main__':\n",
    "    app.run()"
   ]
  },
  {
   "cell_type": "markdown",
   "metadata": {},
   "source": [
    "## Deployment Steps\n",
    "\n",
    "### Created requirements.txt as below and put it in the source folder"
   ]
  },
  {
   "cell_type": "code",
   "execution_count": null,
   "metadata": {},
   "outputs": [],
   "source": [
    "flask\n",
    "pandas\n",
    "scikit-learn"
   ]
  },
  {
   "cell_type": "markdown",
   "metadata": {},
   "source": [
    "### Created a build.yaml file to build you docker image as below"
   ]
  },
  {
   "cell_type": "code",
   "execution_count": null,
   "metadata": {},
   "outputs": [],
   "source": [
    "FROM python:3.11.0b3-bullseye\n",
    "\n",
    "\n",
    "USER 0\n",
    "\n",
    "# setup working directory for jenkins_api\n",
    "RUN mkdir /insmodel\n",
    "WORKDIR /insmodel/\n",
    "ADD src /insmodel/\n",
    "RUN chmod 777 -R '/insmodel/'\n",
    "\n",
    "# Install MySQL Dependency\n",
    "RUN yum install python-pip\n",
    "\n",
    "# Install upgrade pip\n",
    "RUN pip install --upgrade pip\n",
    "\n",
    "\n",
    "# install dependencies\n",
    "COPY requirements.txt ./\n",
    "RUN pip install -r requirements.txt\n",
    "\n",
    "EXPOSE 8080\n",
    "\n",
    "CMD [\"gunicorn\", \"--bind=0.0.0.0:8080\", \"--worker-class=gevent\", \"--worker-connections=500\", \"--workers=3\" , \"app:app\"]\n",
    "\n",
    "\n"
   ]
  },
  {
   "cell_type": "markdown",
   "metadata": {},
   "source": [
    "### execute below to create docker image:\n",
    "\n",
    "docker build ."
   ]
  },
  {
   "cell_type": "markdown",
   "metadata": {},
   "source": [
    "### Push your image to your registry:\n",
    "\n",
    "docker tag imageid Registry.com/myImage\n",
    "\n",
    "docker push Registry.com/myImage"
   ]
  },
  {
   "cell_type": "markdown",
   "metadata": {},
   "source": [
    "### Login to your Cloud/Devops/MLOps platform, select image and deploy"
   ]
  }
 ],
 "metadata": {
  "kernelspec": {
   "display_name": "Python 3",
   "language": "python",
   "name": "python3"
  },
  "language_info": {
   "codemirror_mode": {
    "name": "ipython",
    "version": 3
   },
   "file_extension": ".py",
   "mimetype": "text/x-python",
   "name": "python",
   "nbconvert_exporter": "python",
   "pygments_lexer": "ipython3",
   "version": "3.8.5"
  },
  "toc": {
   "base_numbering": 1,
   "nav_menu": {},
   "number_sections": true,
   "sideBar": true,
   "skip_h1_title": false,
   "title_cell": "Table of Contents",
   "title_sidebar": "Contents",
   "toc_cell": false,
   "toc_position": {},
   "toc_section_display": true,
   "toc_window_display": false
  }
 },
 "nbformat": 4,
 "nbformat_minor": 4
}
